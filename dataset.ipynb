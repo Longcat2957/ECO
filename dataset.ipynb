{
 "cells": [
  {
   "cell_type": "code",
   "execution_count": 1,
   "metadata": {},
   "outputs": [
    {
     "name": "stderr",
     "output_type": "stream",
     "text": [
      "/home/vlsimin95/anaconda3/envs/torch38/lib/python3.8/site-packages/tqdm/auto.py:22: TqdmWarning: IProgress not found. Please update jupyter and ipywidgets. See https://ipywidgets.readthedocs.io/en/stable/user_install.html\n",
      "  from .autonotebook import tqdm as notebook_tqdm\n",
      "100%|██████████| 833/833 [00:35<00:00, 23.18it/s]\n"
     ]
    },
    {
     "name": "stdout",
     "output_type": "stream",
     "text": [
      "1643024\n"
     ]
    }
   ],
   "source": [
    "import torch\n",
    "from torch import nn\n",
    "from torch.utils.data import DataLoader\n",
    "from torchvision import datasets\n",
    "from torchvision.transforms import ToTensor\n",
    "import torchvision\n",
    "from utils.transform import VideoTransform\n",
    "from utils.dataset import UCF101Dataset\n",
    "\n",
    "traindataset = UCF101Dataset(\n",
    "    root='./data/UCF-101',\n",
    "    annotation_path='./data/UCF_annotations',\n",
    "    frames_per_clip=16,\n",
    "    train=True,\n",
    "    num_workers=8,\n",
    "    transform=VideoTransform(resize=(224, 224), phase='train')\n",
    "    )\n",
    "\n",
    "\n",
    "print(traindataset.__len__())"
   ]
  },
  {
   "cell_type": "code",
   "execution_count": 3,
   "metadata": {},
   "outputs": [
    {
     "name": "stdout",
     "output_type": "stream",
     "text": [
      "torch.Size([16, 3, 224, 224]) 0\n"
     ]
    }
   ],
   "source": [
    "vid, label = traindataset[0]\n",
    "print(vid.shape, label)"
   ]
  },
  {
   "cell_type": "code",
   "execution_count": 5,
   "metadata": {},
   "outputs": [],
   "source": [
    "traindataloder = DataLoader(dataset=traindataset, batch_size=16, shuffle=True)"
   ]
  },
  {
   "cell_type": "code",
   "execution_count": 6,
   "metadata": {},
   "outputs": [
    {
     "name": "stdout",
     "output_type": "stream",
     "text": [
      "torch.Size([16, 16, 3, 224, 224])\n",
      "torch.Size([16])\n"
     ]
    }
   ],
   "source": [
    "train_features, train_labels = next(iter(traindataloder))\n",
    "print(train_features.size())\n",
    "print(train_labels.size())"
   ]
  }
 ],
 "metadata": {
  "kernelspec": {
   "display_name": "Python 3.8.13 ('torch38')",
   "language": "python",
   "name": "python3"
  },
  "language_info": {
   "codemirror_mode": {
    "name": "ipython",
    "version": 3
   },
   "file_extension": ".py",
   "mimetype": "text/x-python",
   "name": "python",
   "nbconvert_exporter": "python",
   "pygments_lexer": "ipython3",
   "version": "3.8.13"
  },
  "orig_nbformat": 4,
  "vscode": {
   "interpreter": {
    "hash": "5f3639ef1a7c3485197db2f6cf7651c7693e8c2c82fbdaff5ef282c8b8f6a56a"
   }
  }
 },
 "nbformat": 4,
 "nbformat_minor": 2
}

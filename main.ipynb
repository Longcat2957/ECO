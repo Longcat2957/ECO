{
 "cells": [
  {
   "cell_type": "code",
   "execution_count": 1,
   "metadata": {},
   "outputs": [
    {
     "name": "stderr",
     "output_type": "stream",
     "text": [
      "/home/vlsimin95/anaconda3/envs/torch38/lib/python3.8/site-packages/tqdm/auto.py:22: TqdmWarning: IProgress not found. Please update jupyter and ipywidgets. See https://ipywidgets.readthedocs.io/en/stable/user_install.html\n",
      "  from .autonotebook import tqdm as notebook_tqdm\n"
     ]
    }
   ],
   "source": [
    "import torch\n",
    "import os\n",
    "os.environ['CUDA_LAUNCH_BLOCKING'] = \"1\"\n",
    "os.environ[\"CUDA_VISIBLE_DEVICES\"] = \"0\"\n",
    "from tqdm import tqdm\n",
    "import torchvision\n",
    "from dataset import make_datapath_list, VideoTransform, get_label_id_dictionary, VideoDataset"
   ]
  },
  {
   "cell_type": "code",
   "execution_count": 2,
   "metadata": {},
   "outputs": [
    {
     "name": "stderr",
     "output_type": "stream",
     "text": [
      "/home/vlsimin95/anaconda3/envs/torch38/lib/python3.8/site-packages/torchvision/transforms/transforms.py:332: UserWarning: Argument 'interpolation' of type int is deprecated since 0.13 and will be removed in 0.15. Please use InterpolationMode enum.\n",
      "  warnings.warn(\n"
     ]
    }
   ],
   "source": [
    "train_root_path = '../data/UCF-101/train/'\n",
    "train_path_list = make_datapath_list(train_root_path)\n",
    "val_root_path = '../data/UCF-101/val/'\n",
    "val_path_list = make_datapath_list(val_root_path)\n",
    "\n",
    "resize, crop_size =224, 224\n",
    "mean, std = [103, 117, 123], [1, 1, 1]\n",
    "video_transform = VideoTransform(resize, crop_size, mean, std)"
   ]
  },
  {
   "cell_type": "code",
   "execution_count": 3,
   "metadata": {},
   "outputs": [
    {
     "name": "stdout",
     "output_type": "stream",
     "text": [
      "{'ApplyEyeMakeup': 0, 'ApplyLipstick': 1, 'Archery': 2, 'BabyCrawling': 3, 'BalanceBeam': 4}\n"
     ]
    }
   ],
   "source": [
    "id_label_dict, label_id_dict= get_label_id_dictionary()\n",
    "print(label_id_dict)"
   ]
  },
  {
   "cell_type": "code",
   "execution_count": 4,
   "metadata": {},
   "outputs": [],
   "source": [
    "train_dataset = VideoDataset(train_path_list, label_id_dict, num_segments=16, phase='train', transform=video_transform)\n",
    "val_dataset = VideoDataset(val_path_list, label_id_dict, num_segments=16, phase='val', transform=video_transform)"
   ]
  },
  {
   "cell_type": "code",
   "execution_count": 5,
   "metadata": {},
   "outputs": [],
   "source": [
    "batch_size = 8\n",
    "train_dataloader = torch.utils.data.DataLoader(train_dataset, batch_size=batch_size, shuffle=True)\n",
    "val_dataloader = torch.utils.data.DataLoader(val_dataset, batch_size=batch_size, shuffle=False)\n",
    "whole_dataloader = {\n",
    "    'train' : train_dataloader,\n",
    "    'val' : val_dataloader\n",
    "}"
   ]
  },
  {
   "cell_type": "code",
   "execution_count": 6,
   "metadata": {},
   "outputs": [],
   "source": [
    "from model.eco_lite import ECO_Lite\n",
    "my_model = ECO_Lite(num_of_classes=5)\n",
    "my_loss = torch.nn.CrossEntropyLoss()\n",
    "my_opt = torch.optim.SGD(my_model.parameters(),lr=0.001, momentum=0.9, dampening=0, nesterov=True)"
   ]
  },
  {
   "cell_type": "code",
   "execution_count": 7,
   "metadata": {},
   "outputs": [
    {
     "name": "stdout",
     "output_type": "stream",
     "text": [
      "torch.Size([16, 3, 224, 224])\n",
      "BalanceBeam\n",
      "4\n",
      "../data/UCF-101/train/BalanceBeam/v_BalanceBeam_g19_c03\n"
     ]
    }
   ],
   "source": [
    "index = 0\n",
    "print(train_dataset.__getitem__(index)[0].shape)\n",
    "print(train_dataset.__getitem__(index)[1])\n",
    "print(train_dataset.__getitem__(index)[2])\n",
    "print(train_dataset.__getitem__(index)[3])"
   ]
  },
  {
   "cell_type": "code",
   "execution_count": 8,
   "metadata": {},
   "outputs": [
    {
     "name": "stdout",
     "output_type": "stream",
     "text": [
      "torch.Size([16, 3, 224, 224])\n",
      "BalanceBeam\n",
      "4\n",
      "../data/UCF-101/val/BalanceBeam/v_BalanceBeam_g23_c05\n"
     ]
    }
   ],
   "source": [
    "index = 0\n",
    "print(val_dataset.__getitem__(index)[0].shape)\n",
    "print(val_dataset.__getitem__(index)[1])\n",
    "print(val_dataset.__getitem__(index)[2])\n",
    "print(val_dataset.__getitem__(index)[3])"
   ]
  },
  {
   "cell_type": "code",
   "execution_count": 9,
   "metadata": {},
   "outputs": [
    {
     "name": "stdout",
     "output_type": "stream",
     "text": [
      "torch.Size([4, 16, 3, 224, 224])\n",
      "tensor([4, 4, 4, 4])\n"
     ]
    }
   ],
   "source": [
    "batch_iterator = iter(val_dataloader)\n",
    "imgs_transformeds, labels, label_ids, dir_path = next(batch_iterator)\n",
    "print(imgs_transformeds.shape)\n",
    "print(label_ids)"
   ]
  },
  {
   "cell_type": "code",
   "execution_count": 10,
   "metadata": {},
   "outputs": [
    {
     "name": "stdout",
     "output_type": "stream",
     "text": [
      "device = cuda:0\n",
      "load model to cuda:0\n",
      "EPOCH 1/1\n",
      "------------\n"
     ]
    },
    {
     "name": "stderr",
     "output_type": "stream",
     "text": [
      "100%|██████████| 90/90 [00:20<00:00,  4.43it/s]"
     ]
    },
    {
     "name": "stdout",
     "output_type": "stream",
     "text": [
      "val Loss: 1.6109 Acc: 0.2235\n"
     ]
    },
    {
     "name": "stderr",
     "output_type": "stream",
     "text": [
      "\n"
     ]
    }
   ],
   "source": [
    "from train import train_model\n",
    "train_model(my_model, whole_dataloader, my_loss, my_opt, 100)"
   ]
  }
 ],
 "metadata": {
  "kernelspec": {
   "display_name": "Python 3.8.13 ('torch38')",
   "language": "python",
   "name": "python3"
  },
  "language_info": {
   "codemirror_mode": {
    "name": "ipython",
    "version": 3
   },
   "file_extension": ".py",
   "mimetype": "text/x-python",
   "name": "python",
   "nbconvert_exporter": "python",
   "pygments_lexer": "ipython3",
   "version": "3.8.13"
  },
  "orig_nbformat": 4,
  "vscode": {
   "interpreter": {
    "hash": "5f3639ef1a7c3485197db2f6cf7651c7693e8c2c82fbdaff5ef282c8b8f6a56a"
   }
  }
 },
 "nbformat": 4,
 "nbformat_minor": 2
}
